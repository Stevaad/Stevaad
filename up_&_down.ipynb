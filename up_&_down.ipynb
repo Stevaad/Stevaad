{
  "nbformat": 4,
  "nbformat_minor": 0,
  "metadata": {
    "colab": {
      "provenance": [],
      "authorship_tag": "ABX9TyOsDUMPYz+63UhNF6yaVnng",
      "include_colab_link": true
    },
    "kernelspec": {
      "name": "python3",
      "display_name": "Python 3"
    },
    "language_info": {
      "name": "python"
    }
  },
  "cells": [
    {
      "cell_type": "markdown",
      "metadata": {
        "id": "view-in-github",
        "colab_type": "text"
      },
      "source": [
        "<a href=\"https://colab.research.google.com/github/Stevaad/Stevaad/blob/main/up_%26_down.ipynb\" target=\"_parent\"><img src=\"https://colab.research.google.com/assets/colab-badge.svg\" alt=\"Open In Colab\"/></a>"
      ]
    },
    {
      "cell_type": "code",
      "source": [
        "import random\n",
        "n = random.randint(1, 100)\n",
        "number = 1\n",
        "while True:\n",
        "  numbers = int(input(\"1~100까지의 숫자를 입력하세요: \"))\n",
        "  if n > numbers:\n",
        "    print(\"up\")\n",
        "    number = number + 1\n",
        "  elif n < numbers:\n",
        "    print(\"down\")\n",
        "    number = number + 1\n",
        "  else:\n",
        "    print(\"%d번만에 정답입니다.\" % number)\n",
        "  if n == numbers:\n",
        "    break\n"
      ],
      "metadata": {
        "id": "m_F5MsfuVqoD"
      },
      "execution_count": null,
      "outputs": []
    }
  ]
}